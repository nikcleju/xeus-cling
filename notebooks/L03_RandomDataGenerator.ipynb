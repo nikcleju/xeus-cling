{
 "cells": [
  {
   "cell_type": "markdown",
   "metadata": {},
   "source": [
    "# Information Theory Lab 03: Random Data Generator\n",
    "\n",
    "## About\n",
    "\n",
    "This file is designed to be viewed and run online in a browser.\n",
    "\n",
    "This file is a Jupyter Notebook file usign `xeus-cling`, a Jupyter kernel for C++ based on the `cling` C++ interpreter and the `xeus` native implementation of the Jupyter protocol, xeus.\n",
    "\n",
    "- GitHub repository: https://github.com/jupyter-xeus/xeus-cling/\n",
    "- Online documentation: https://xeus-cling.readthedocs.io/ \n",
    "\n",
    "<img src=\"images/xeus-cling.png\" alt=\"xeus-cling logo\" style=\"width: 100px;\"/>"
   ]
  },
  {
   "cell_type": "markdown",
   "metadata": {},
   "source": [
    "## Usage\n",
    "\n",
    "<div style=\"background: #efffed;\n",
    "            border: 1px solid grey;\n",
    "            margin: 8px 0 8px 0;\n",
    "            text-align: center;\n",
    "            padding: 8px; \">\n",
    "    <i class=\"fa-play fa\" \n",
    "       style=\"font-size: 40px;\n",
    "              line-height: 40px;\n",
    "              margin: 8px;\n",
    "              color: #444;\">\n",
    "    </i>\n",
    "    <div>\n",
    "    To run the selected code cell, hit <pre style=\"background: #efffed\">Shift + Enter</pre>\n",
    "    </div>\n",
    "</div>\n",
    "\n",
    "<br>"
   ]
  },
  {
   "cell_type": "markdown",
   "metadata": {},
   "source": [
    "# 1. Objective\n",
    "\n",
    "Understand the concepts of entropy and discrete memoryless source. Generate a data file from a memoryless source and attempt to compress it."
   ]
  },
  {
   "cell_type": "markdown",
   "metadata": {},
   "source": [
    "# 2. Practical considerations\n",
    "\n",
    "## 2.1 Generating random numbers in C/C++\n",
    "\n",
    "In C/C++, you can generate random integer numbers by calling `rand()`, which returns a random integer uniformly selected from the range 0 ... RAND_MAX (a predefined constant).\n",
    "\n",
    "To work properly, the random number generator must first be initialized with some unique number, by calling `srand()`. A typical scenario is to initialize it with the current time obtained by `time(NULL)`.\n",
    "\n",
    "Run the following example multiple times:"
   ]
  },
  {
   "cell_type": "code",
   "execution_count": null,
   "metadata": {},
   "outputs": [],
   "source": [
    "srand(time(NULL));   // initialize random number generator, only once, at the beginning of the program"
   ]
  },
  {
   "cell_type": "code",
   "execution_count": null,
   "metadata": {},
   "outputs": [],
   "source": [
    "int x = rand();      // generate random x\n",
    "x                    // display it"
   ]
  },
  {
   "cell_type": "markdown",
   "metadata": {},
   "source": [
    "Let's display the maximum value RAND_MAX:"
   ]
  },
  {
   "cell_type": "code",
   "execution_count": null,
   "metadata": {},
   "outputs": [],
   "source": [
    "RAND_MAX"
   ]
  },
  {
   "cell_type": "markdown",
   "metadata": {},
   "source": [
    "## 2.2 Generating random letters with predefined probabilities\n",
    "\n",
    "Suppose we want to randomly generate either letter `a` or letter `b`, with probabilities $p_a = 0.7$ and $p_b = 0.3$.\n",
    "\n",
    "We can do this in the following way: get a random number $x$ with `rand()`, and then check whether $x$ falls in the interval  $[0, \\; 0.7]$ * RAND_MAX \n",
    "or in the interval  $[0.7, \\; 1]$ * RAND_MAX.\n",
    "\n",
    "![Randomly selecting from two intervals](fig/L03_twointervals.png)\n",
    "\n",
    "Run the following example multiple times and see the different outputs:"
   ]
  },
  {
   "cell_type": "code",
   "execution_count": null,
   "metadata": {},
   "outputs": [],
   "source": [
    "char letter;\n",
    "\n",
    "int x = rand();\n",
    "if (x < 0.7*RAND_MAX)\n",
    "    letter = 'a';\n",
    "else\n",
    "    letter = 'b';\n",
    "\n",
    "letter                      // display it"
   ]
  },
  {
   "cell_type": "markdown",
   "metadata": {},
   "source": [
    "### Exercise 1: generate one of four letters\n",
    "\n",
    "**Exercise**:  Randomly generate one of the four letters `a`, `b`, `c` and `d` with probabilities 0.4, 0.3, 0.2, 0.1. Start by copying the the example above and then update it."
   ]
  },
  {
   "cell_type": "code",
   "execution_count": null,
   "metadata": {},
   "outputs": [],
   "source": [
    "// Write solution here:\n"
   ]
  },
  {
   "cell_type": "markdown",
   "metadata": {},
   "source": [
    "### Exercise 2: generate a vector with random letters\n",
    "\n",
    "**Exercise**:  Randomly generate 10 letters using one of the methods above, and write them inside a vector `letters[]`"
   ]
  },
  {
   "cell_type": "code",
   "execution_count": null,
   "metadata": {},
   "outputs": [],
   "source": [
    "char letters[10];           // define the vector\n",
    "\n",
    "// Write solution here:\n",
    "// ...\n",
    "\n",
    "// Display the letters at the end\n",
    "letters "
   ]
  },
  {
   "cell_type": "markdown",
   "metadata": {},
   "source": [
    "### Exercise 3: generate multiple letters\n",
    "\n",
    "**Exercise**: Suppose we want to generate any letter of the alphabet (26 letters), according to 26 probabilities available in a vector `prob[26]`.\n",
    "We want to avoid writing 26 `if ()` instructions, like in the previous examples. \n",
    "Can we find a smart algorithm to do this without requiring 26 of `if()` ?"
   ]
  },
  {
   "cell_type": "code",
   "execution_count": null,
   "metadata": {},
   "outputs": [],
   "source": [
    "double prob[26] = {0.036, 0.04, 0.04, 0.04, 0.04, 0.04, 0.04, 0.04, 0.04, 0.04, 0.04, 0.04, 0.04, 0.04, 0.04, 0.04, 0.04, 0.04, 0.04, 0.04, 0.04, 0.04, 0.04, 0.04, 0.04, 0.04};\n",
    "\n",
    "char letter;\n",
    "\n",
    "int x = rand();\n",
    "\n",
    "// Write solution here:\n",
    "// ...\n",
    "\n",
    "\n",
    "letter                  // keep this on last line to display the letter"
   ]
  },
  {
   "cell_type": "markdown",
   "metadata": {},
   "source": [
    "## 2.3 Reading probabilities from a vector of strings\n",
    "\n",
    "In our program, we receive the probabilities as a vector of strings called `argv`, for example:\n",
    "```\n",
    "argv:  {\"entropy.exe\", \"\", \"output.txt\", \"100\", \"0.4\",\"0.3\",\"0.2\",\"0.1\"}\n",
    "```\n",
    "\n",
    "We need to convert these from strings to actual numbers variable. This can be done with the function `sscanf()` (\"*scanf for strings*\"), which operates just like `scanf()`, but reads data from a string.\n",
    "\n",
    "**Example:**\n",
    "\n",
    "First let's define a `double` variable to store the result:"
   ]
  },
  {
   "cell_type": "code",
   "execution_count": null,
   "metadata": {},
   "outputs": [],
   "source": [
    "double p;                        // we will store the value into this variable\n",
    "p                                // display the initial value"
   ]
  },
  {
   "cell_type": "markdown",
   "metadata": {},
   "source": [
    "... and now let's convert the string `\"0.4\"` to the number `0.4`:"
   ]
  },
  {
   "cell_type": "code",
   "execution_count": null,
   "metadata": {},
   "outputs": [],
   "source": [
    "sscanf(\"0.4\", \"%lf\", &p);        // first argument = the source string,   second = what we read   , third = where to store it\n",
    "p                                // the value was put here"
   ]
  },
  {
   "cell_type": "markdown",
   "metadata": {},
   "source": [
    "### Exercise 4: convert command line arguments to string\n",
    "\n",
    "Convert the following string arguments to numbers:"
   ]
  },
  {
   "cell_type": "code",
   "execution_count": null,
   "metadata": {},
   "outputs": [],
   "source": [
    "const char* argv[] = {\"entropy.exe\", \"\", \"output.txt\", \"100\", \"0.4\",\"0.3\",\"0.2\",\"0.1\"};\n",
    "\n",
    "int size;                 // integer to hold the value 100\n",
    "double p1, p2, p3, p4;    // 4 floats to hold the probabilities\n",
    "\n",
    "// Write solution here:\n",
    "// ...\n",
    "\n",
    "// Display all of them\n",
    "printf(\"size = %d, p1 = %g, p2 = %g, p3=%g, p4=%g\\n\", size, p1, p2, p3, p4);"
   ]
  },
  {
   "cell_type": "markdown",
   "metadata": {},
   "source": [
    "You should obtain the following line:\n",
    "\n",
    "```size = 100, p1 = 0.4, p2 = 0.3, p3=0.2, p4=0.1```"
   ]
  },
  {
   "cell_type": "markdown",
   "metadata": {},
   "source": [
    "## 2.4 File operations in binary mode\n",
    "\n",
    "### Opening and closing\n",
    "To open a file we call `fopen()`, specifying the name of the file and what we're opening it for.\n",
    "The function returns NULL if the file could not be opened, so we can check if something went wrong."
   ]
  },
  {
   "cell_type": "code",
   "execution_count": null,
   "metadata": {},
   "outputs": [],
   "source": [
    "FILE* f = fopen(\"file.txt\", \"rb\");   // Open file for reading in binary mode\n",
    "\n",
    "if (f == NULL)\n",
    "    printf(\"OMG the file could not be opened!\");   // most likelt the file does not exist"
   ]
  },
  {
   "cell_type": "markdown",
   "metadata": {},
   "source": [
    "When we have finished working the file, we should close it with `fclose()`"
   ]
  },
  {
   "cell_type": "code",
   "execution_count": null,
   "metadata": {},
   "outputs": [],
   "source": [
    "fclose(f); // ***** Don't run this here, it crashes ******"
   ]
  },
  {
   "cell_type": "markdown",
   "metadata": {},
   "source": [
    "### Reading binary data\n",
    "\n",
    "To read data we call `fread(addr, size, count, file)`, with four arguments:\n",
    "- **addr** = address where to store the read data (a pointer)\n",
    "- **size** = size of one element, in bytes\n",
    "- **count** = number of elements (**Note:** the function is designed to read vectors with `count` elements, each of size `size`)\n",
    "- **file** = the variable representing the opened file\n",
    "\n",
    "The function returns the **total number of bytes read**.\n",
    "\n",
    "Example:\n",
    "\n",
    "```\n",
    "fread(vector, sizeof(int), 100, f);  // Reads from file `f` a vector with 100 elements, each with `sizeof(int)` bytes, and stores them in the vector `vector`\n",
    "```"
   ]
  },
  {
   "cell_type": "markdown",
   "metadata": {},
   "source": [
    "### Writing binary data\n",
    "\n",
    "To write data from a vector or a variable into a file, we call `fwrite(addr, size, count, file)`, with four arguments:\n",
    "- **addr** = address of the data (a pointer)\n",
    "- **size** = size of one element, in bytes\n",
    "- **count** = number of elements to wrote (**Note:** the function is designed to write vectors with `count` elements, each of size `size`)\n",
    "- **file** = the variable representing the opened file\n",
    "\n",
    "The function returns the **total number of bytes written**.\n",
    "\n",
    "Example:\n",
    "\n",
    "```\n",
    "int vector[] = {1,2,3,4,5,6,7,8};  // a vector with 8 integer values\n",
    "\n",
    "fwrite(vector, sizeof(int), 5, f);  // Writes the first 5 elements from `vector` into the file `f`\n",
    "```"
   ]
  },
  {
   "cell_type": "markdown",
   "metadata": {},
   "source": [
    "# 3. Exercises\n",
    "\n",
    "\n",
    "1. Write a C program *randgen.c* to generate a file filled with random letters chosen from `a`, `b` or `c`, according to a specified set of probabilities.\n",
    "\n",
    "    * The program shall receive the **name** of the file, the data **size** and the **probabilities** as command-line arguments:\n",
    "    \n",
    "        `randgen.exe data.txt 10000 0.5 0.2 0.3`\n",
    "    \n",
    "        The arguments are:\n",
    "    \n",
    "         * the name of the output file (e.g. `data.txt`);\n",
    "         \n",
    "         * the number of letters to generate (10000);\n",
    "         * the probabilities (e.g. 0.5, 0.2, 0.3).\n",
    "           \n",
    "    * The program should follow the following steps:\n",
    "    \n",
    "        * Convert the numerical data from command-line to actual number variables, with `sscanf()`, and display the probabilities.\n",
    "        \n",
    "        * Dynamically allocate an array of `unsigned char` of necessary size. The letters are first written here, and then will be written to the file only at the end.\n",
    "        * Generate characters randomly according to the probabilities (starting from letter 'a') and put them in the array\n",
    "        * Write the array to the file (in binary format), using `fwrite()`\n",
    "\n",
    "\n",
    "2. Generate a 10000-bytes long file with all three letters having equal probability.\n",
    "\n",
    "    a. Compute its entropy using the program from the previous lab (`entropy.exe`).\n",
    "    \n",
    "    b. Compress the file using zip or 7zip. What is the compression ratio achieved? How is it related to the entropy?\n",
    "\n",
    "\n",
    "3. Update the program to do the following:\n",
    "\n",
    "    - Instead of always considering 3 letters, the program should **deduce the number of letters** itself, from the number of given probabilities. For example, if we provide 5 probabilities $0.3, 0.2, 0.1, 0.2, 0.2$, the program should understand that we want five letters `a`, `b`, `c`, `d`, `e`. The probabilities should be stored as a vector, dynamically allocated, since we don't know beforehand how many they are.\n",
    "      \n",
    "      Hint: The program can figure out the number of probabilities from `argc`.\n",
    "  \n",
    "\n",
    "4. Generate a file with filled with random letters selected from `a` to `j` (10 letters), with equal probability, and compute its entropy.\n"
   ]
  },
  {
   "cell_type": "markdown",
   "metadata": {},
   "source": [
    "# 4. Final questions\n",
    "\n",
    "1. Can you make a file which cannot be compressed at all? How?"
   ]
  }
 ],
 "metadata": {
  "kernelspec": {
   "display_name": "C++14",
   "language": "C++14",
   "name": "xcpp14"
  },
  "language_info": {
   "codemirror_mode": "text/x-c++src",
   "file_extension": ".cpp",
   "mimetype": "text/x-c++src",
   "name": "c++",
   "version": "14"
  }
 },
 "nbformat": 4,
 "nbformat_minor": 4
}
