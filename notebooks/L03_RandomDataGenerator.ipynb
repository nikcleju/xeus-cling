{
 "cells": [
  {
   "cell_type": "markdown",
   "metadata": {},
   "source": [
    "# Information Theory Lab 03: Random Data Generator\n",
    "\n",
    "## Usage\n",
    "\n",
    "This file is designed to be viewed online in a browser.\n",
    "\n",
    "This file is a Jupyter Notebook file, usign `xeus-cling`, a Jupyter kernel for C++ based on the `cling` C++ interpreter and the `xeus` native implementation of the Jupyter protocol, xeus.\n",
    "\n",
    "- GitHub repository: https://github.com/jupyter-xeus/xeus-cling/\n",
    "- Online documentation: https://xeus-cling.readthedocs.io/\n",
    "\n",
    "<img src=\"images/xeus-cling.png\" alt=\"xeus-cling logo\" style=\"width: 200px;\"/>\n",
    "\n",
    "<!--[![xeus-cling](images/xeus-cling.png)](https://github.com/jupyter-xeus/xeus-cling/)-->\n",
    "\n"
   ]
  },
  {
   "cell_type": "markdown",
   "metadata": {},
   "source": [
    "## Usage\n",
    "\n",
    "<div style=\"background: #efffed;\n",
    "            border: 1px solid grey;\n",
    "            margin: 8px 0 8px 0;\n",
    "            text-align: center;\n",
    "            padding: 8px; \">\n",
    "    <i class=\"fa-play fa\" \n",
    "       style=\"font-size: 40px;\n",
    "              line-height: 40px;\n",
    "              margin: 8px;\n",
    "              color: #444;\">\n",
    "    </i>\n",
    "    <div>\n",
    "    To run the selected code cell, hit <pre style=\"background: #efffed\">Shift + Enter</pre>\n",
    "    </div>\n",
    "</div>\n",
    "\n",
    "<br>"
   ]
  },
  {
   "cell_type": "markdown",
   "metadata": {},
   "source": [
    "## 1. Objective\n",
    "\n",
    "Understand the concepts of entropy and discrete memoryless source. Generate a data file from a memoryless source and attempt to compress it."
   ]
  },
  {
   "cell_type": "markdown",
   "metadata": {},
   "source": [
    "# 2. Practical considerations\n",
    "\n",
    "## 2.1 Generating random numbers in C/C++\n",
    "\n",
    "In C/C++, you can generate random integer numbers by calling `rand()`, which returns a random integer uniformly selected from the range 0 ... RAND_MAX (a predefined constant).\n",
    "\n",
    "To work properly, the random number generator must first be initialized with some unique number, bu calling `srand()`. A typical scenario is to initialize it with the current time obtained by `time(NULL)`.\n",
    "\n",
    "Run the following example multiple times:"
   ]
  },
  {
   "cell_type": "code",
   "execution_count": null,
   "metadata": {},
   "outputs": [],
   "source": [
    "srand(time(NULL));   // initialize random number generator\n",
    "int x = rand();      // generate random x\n",
    "x                    // display it"
   ]
  },
  {
   "cell_type": "markdown",
   "metadata": {},
   "source": [
    "Let's display the maximum value RAND_MAX:"
   ]
  },
  {
   "cell_type": "code",
   "execution_count": null,
   "metadata": {},
   "outputs": [],
   "source": [
    "RAND_MAX"
   ]
  },
  {
   "cell_type": "markdown",
   "metadata": {},
   "source": [
    "## 2.2 Generating random letters with predefined probabilities\n",
    "\n",
    "Suppose we want to randomly generate either `a` or `b`, with probabities $p_1 = 0.7$ (for `a`) and $p_2 = 0.3$ (for `b`).\n",
    "\n",
    "We can do this by randomly selecting a number $x$ with `rand()`, and then checking whether $x$ falles within the interval $[0, \\;\\; 0.7] * RAND\\_MAX$ (happens with probability 0.7)\n",
    "or within the interval $[0.7, 1] * RAND\\_MAX$ (happens with probability 0.3), as illustrated below:\n",
    "\n",
    "![Randomly selecting from two intervals](fig/L03_twointervals.png)\n",
    "\n",
    "Run the following example multiple times and see the different outputs:"
   ]
  },
  {
   "cell_type": "code",
   "execution_count": null,
   "metadata": {},
   "outputs": [],
   "source": [
    "char letter;\n",
    "\n",
    "int x = rand();\n",
    "if (x < 0.7*RAND_MAX)\n",
    "    letter = 'a';\n",
    "else\n",
    "    letter = 'b';\n",
    "\n",
    "letter                      // display it"
   ]
  },
  {
   "cell_type": "markdown",
   "metadata": {},
   "source": [
    "### Exercise 1: generate one of four letters\n",
    "\n",
    "**Exercise**:  Randomly generate one of the four letters `a`, `b`, `c` and `d` with probabilities 0.4, 0.3, 0.2, 0.1"
   ]
  },
  {
   "cell_type": "code",
   "execution_count": null,
   "metadata": {},
   "outputs": [],
   "source": [
    "// Write solution here:\n"
   ]
  },
  {
   "cell_type": "markdown",
   "metadata": {},
   "source": [
    "### Exercise 2: generate multiple letters\n",
    "\n",
    "**Exercise**: Suppose we want to generate one any letter of the alphabet (26 letters), according to 26 probabilities available in a vector `prob[26]`.\n",
    "\n",
    "We want to avoid writing 26 `if ()` instructions. \n",
    "\n",
    "Can we find a smart algorithm to do this?"
   ]
  },
  {
   "cell_type": "code",
   "execution_count": null,
   "metadata": {},
   "outputs": [],
   "source": [
    "double prob[26] = {0.036, 0.04, 0.04, 0.04, 0.04, 0.04, 0.04, 0.04, 0.04, 0.04, 0.04, 0.04, 0.04, 0.04, 0.04, 0.04, 0.04, 0.04, 0.04, 0.04, 0.04, 0.04, 0.04, 0.04, 0.04, 0.04};\n",
    "\n",
    "char letter;\n",
    "\n",
    "int x = rand();\n",
    "\n",
    "// Write solution here:\n",
    "\n",
    "\n",
    "\n",
    "letter                  // keep this on last line to display the letter"
   ]
  },
  {
   "cell_type": "markdown",
   "metadata": {},
   "source": [
    "## 2.3 Reading probabilities from a vector of strings\n",
    "\n",
    "In our program, we receive the probabilities as a vector of strings, for example like \n",
    "```\n",
    "argv:  {\"0.4\",\"0.3\",\"0.2\",\"0.1\"}\n",
    "```\n",
    "\n",
    "We need to convert the numbers from a string to an actual number variable. This can be done with the function `sscanf()` (\"*scanf() for strings*\"), which operates just like `scanf()`, but reads data from a string.\n",
    "\n",
    "**Example:**\n",
    "\n",
    "First let's define a `double` variable to store the result:"
   ]
  },
  {
   "cell_type": "code",
   "execution_count": null,
   "metadata": {},
   "outputs": [],
   "source": [
    "double p;                        // we will store the value into this variable\n",
    "p                                // display the initial value"
   ]
  },
  {
   "cell_type": "markdown",
   "metadata": {},
   "source": [
    "... and now let's convert the string `\"0.4\"` to the number `0.4`:"
   ]
  },
  {
   "cell_type": "code",
   "execution_count": null,
   "metadata": {},
   "outputs": [],
   "source": [
    "sscanf(\"0.4\", \"%lf\", &p);        // first argument = the source string,   second = what we read   , third = where to store it\n",
    "p                                // the value was put here"
   ]
  },
  {
   "cell_type": "markdown",
   "metadata": {},
   "source": [
    "# 3. Exercises\n",
    "\n",
    "\n",
    "1. Write a C program to generate random data and save it into a file, according to a specified set of probabilities.\n",
    "\n",
    "    * The program shall receive the **name** of the file, the data **size** and the **probabilities** as command-line arguments:\n",
    "    \n",
    "        `entropy.exe data.txt 10000 0.5 0.1 0.1 0.3`\n",
    "    \n",
    "        The arguments are:\n",
    "    \n",
    "         * the name of the output file (`data.txt`);\n",
    "         * the number of bytes to generate (10000);\n",
    "         * the distribution (0.5 0.1 0.1, 0.3, four different messages). Note: the last probability can be deduced automatically, equal to (1 - sum of all the others).\n",
    "         \n",
    "    * The program should follow the following steps:\n",
    "    \n",
    "        * Convert the numerical data from command-line to actual number variables, with `sscanf()`, and display the probabilities. The probabilities must be stored as a vector.\n",
    "        * Understand how many different probabilities are given (i.e. how many different letters we consider), and dynamically allocate a vector to old the probabilities.\n",
    "        * Allocate an array of `unsigned char` of necessary size;\n",
    "        * Generate characters randomly according to the probabilities (starting from letter 'a') and put them into array above\n",
    "        * Write the final array to file (in binary format), using `fwrite()`\n",
    "\n",
    "\n",
    "2. Generate a 10000-bytes long file with only two messages, with equal probability.\n",
    "\n",
    "    a. Compute its entropy using the program from the previous lab;\n",
    "    \n",
    "    b. Compress the file using zip or 7zip. What is the compression ratio achieved? How is it related to the entropy?\n",
    "  \n",
    "3. Repeat the previous exercise with a distribution of four messages and eight, with equal probability.\n"
   ]
  }
 ],
 "metadata": {
  "kernelspec": {
   "display_name": "C++11",
   "language": "C++11",
   "name": "xcpp11"
  },
  "language_info": {
   "codemirror_mode": "text/x-c++src",
   "file_extension": ".cpp",
   "mimetype": "text/x-c++src",
   "name": "c++",
   "version": "11"
  }
 },
 "nbformat": 4,
 "nbformat_minor": 4
}
