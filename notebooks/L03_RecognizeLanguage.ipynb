{
 "cells": [
  {
   "cell_type": "markdown",
   "metadata": {},
   "source": [
    "# Information Theory Lab 03: Recognize Text Language with Memory Sources\n",
    "\n",
    "## About\n",
    "\n",
    "This file is designed to be viewed and run online in a browser.\n",
    "\n",
    "This file is a Jupyter Notebook file usign `xeus-cling`, a Jupyter kernel for C++ based on the `cling` C++ interpreter and the `xeus` native implementation of the Jupyter protocol, xeus.\n",
    "\n",
    "- GitHub repository: https://github.com/jupyter-xeus/xeus-cling/\n",
    "- Online documentation: https://xeus-cling.readthedocs.io/ \n",
    "\n",
    "<!-- <img src=\"images/xeus-cling.png\" alt=\"xeus-cling logo\" style=\"width: 100px;\"/> -->"
   ]
  },
  {
   "cell_type": "markdown",
   "metadata": {},
   "source": [
    "## Usage\n",
    "\n",
    "To run a selected code cell:\n",
    "\n",
    "- Ctrl  + Enter = Run cell and remain at current cell\n",
    "- Shift + Enter = Run cell and advance to next cell\n",
    "\n",
    "<!--\n",
    "<div style=\"background: #efffed;\n",
    "            border: 1px solid grey;\n",
    "            margin: 8px 0 8px 0;\n",
    "            text-align: center;\n",
    "            padding: 8px; \">\n",
    "    <i class=\"fa-play fa\" \n",
    "       style=\"font-size: 40px;\n",
    "              line-height: 40px;\n",
    "              margin: 8px;\n",
    "              color: #444;\">\n",
    "    </i>\n",
    "    <div>\n",
    "    To run the selected code cell, hit <pre style=\"background: #efffed\">Shift + Enter</pre>\n",
    "    </div>\n",
    "</div>\n",
    "-->\n",
    "<br>"
   ]
  },
  {
   "cell_type": "markdown",
   "metadata": {},
   "source": [
    "# 1. Objective\n",
    "\n",
    "Understand the concept of source with memory and use it in a nice application."
   ]
  },
  {
   "cell_type": "markdown",
   "metadata": {},
   "source": [
    "# 2. Practical considerations\n",
    "\n",
    "## 2.1 Minor prerequisites\n",
    "\n",
    "Some simple function we need are presented below.\n",
    "\n",
    "The function `isalpha()` returns non-zero if a character is a letter (a to z or A to Z), and 0 if not. Run the cell below to play with it."
   ]
  },
  {
   "cell_type": "code",
   "execution_count": null,
   "metadata": {},
   "outputs": [],
   "source": [
    "isalpha('b') != 0"
   ]
  },
  {
   "cell_type": "markdown",
   "metadata": {},
   "source": [
    "The function `tolower()` converts an upper-case letter into a lower-case one. A non-letter is left unchanged."
   ]
  },
  {
   "cell_type": "code",
   "execution_count": null,
   "metadata": {},
   "outputs": [],
   "source": [
    "tolower(';') == ';'"
   ]
  },
  {
   "cell_type": "markdown",
   "metadata": {},
   "source": [
    "`strlen()` can be used to determine the length of a string of characters."
   ]
  },
  {
   "cell_type": "code",
   "execution_count": null,
   "metadata": {},
   "outputs": [],
   "source": [
    "strlen(\"Salut\")"
   ]
  },
  {
   "cell_type": "markdown",
   "metadata": {},
   "source": [
    "## 2.2 Building a source with memory\n",
    "\n",
    "We consider a source with memory, which can produces all 26 letters of the English alphabet (`a` to `z`, only lower-case). \n",
    "The source has memory order = 1, i.e. it remembers the previous letter. \n",
    "The total number of states is 26.\n",
    "\n",
    "The transition matrix $T$ is a $26 \\times 26$ matrix which holds the transition probability from one state to another, i.e. from one letter to the next one:\n",
    " \n",
    "- $T[0,0]$ = probability that an `a` is followed by a `a`\n",
    "- $T[0,1]$ = probability that an `a` is followed by a `b`\n",
    "- ...\n",
    "- $T[i][j]$ = probability that the $i$-th letter of the alphabet is followed by the $j$-th letter of the alphabet\n",
    "- ...\n",
    "- $T[25,25]$ = probability that a `z` is followed by a `z`\n",
    "\n",
    "Different languages have different transition probabilities.\n",
    "\n",
    "How to find these transition probabilities? We can estimate them by counting letters from a large text file. as follows. \n",
    "We have a $26 \\times 26$ matrix $C$ of counters. Every time we see an `a` followed by an `a`, we increment $C[0][0]$. \n",
    "When we see an `a` followed by a `b`, we increment $C[0][1]$, and so on. Essentially we count every group of two consecutive letters.\n",
    "\n",
    "Once we have the counted values, we find probabilities by dividing to the total.\n",
    "\n",
    "### Step 1: count pairs of letters\n",
    "\n",
    "Consider the following text. Go through the `text` array with a `for` loop, and increment the counter matrix `count` appropriately for every pair of consecutive letters.\n",
    "Notes:\n",
    "  - upper-case letters are not considered, we convert them to lower-case with `tolower()`\n",
    "  - we ignore non-letters. Use `isalpha()` to check that both characters are actually letters\n",
    "  - we initialize all the counters **with 1 and not 0**, to avoid having probability any transition with zero probability"
   ]
  },
  {
   "cell_type": "code",
   "execution_count": null,
   "metadata": {},
   "outputs": [],
   "source": [
    "int count[26][26];\n",
    "\n",
    "// Initialize all counters with 1\n",
    "for (int i=0; i<26; i++)\n",
    "    for (int j=0; j<26; j++)\n",
    "        count[i][j] = 1;\n",
    "\n",
    "const char* text = \"Congratulations, you won the lottery!\";\n",
    "\n",
    "// TODO: write below\n",
    "\n",
    "\n",
    "\n",
    "\n",
    "// Display the count matrix obtained\n",
    "count"
   ]
  },
  {
   "cell_type": "markdown",
   "metadata": {},
   "source": [
    "### Step 2: compute transition matrix\n",
    "\n",
    "Compute the transition matrix $T$ by dividing each row of `count` to the sum of that row. Every row in the matrix $T$ should sum up to 1."
   ]
  },
  {
   "cell_type": "code",
   "execution_count": null,
   "metadata": {},
   "outputs": [],
   "source": [
    "double T[26][26]; // will hold the transition probabilities\n",
    "\n",
    "// TODO: write below\n",
    "\n",
    "\n",
    "\n",
    "\n",
    "// Display here the resulting matrix\n",
    "T"
   ]
  },
  {
   "cell_type": "markdown",
   "metadata": {},
   "source": [
    "### Exercise 3: Putting it all together into a function\n",
    "\n",
    "Write a function `void getT(const char* fn, double T[][26])` to compute the transition matrix from a large text file.\n",
    "- the function receives the name of the file as the first argument `fn`\n",
    "- it opens the file, reads every byte, increments counters (only for letters)\n",
    "- it computes the transition probabilities and stores them in the matrix `T` received as second argument"
   ]
  },
  {
   "cell_type": "code",
   "execution_count": null,
   "metadata": {},
   "outputs": [],
   "source": [
    "void getT(const char* fn, double T[][26])\n",
    "{\n",
    "    // Some necessary variables here\n",
    "    FILE* f;\n",
    "    unsigned char c1, c2;\n",
    "    int count[26][26];\n",
    "    int total=0;\n",
    "    \n",
    "    // TODO: write below\n",
    "\n",
    "    \n",
    "    \n",
    "}"
   ]
  },
  {
   "cell_type": "markdown",
   "metadata": {},
   "source": [
    "Now let's call the function on the files `textro.txt` and `texten.txt` and see the results"
   ]
  },
  {
   "cell_type": "code",
   "execution_count": null,
   "metadata": {},
   "outputs": [],
   "source": [
    "double T_ro[26][26];        // for Romanian language\n",
    "double T_en[26][26];        // for English language\n",
    "getT(\"textro.txt\", T_ro);   // Romanian text file\n",
    "getT(\"texten.txt\", T_en);   // English text file\n",
    "\n",
    "// display one of the matrices\n",
    "T_ro"
   ]
  },
  {
   "cell_type": "markdown",
   "metadata": {},
   "source": [
    "### Step 4: Compute probability of an unknown text\n",
    "\n",
    "Given a text array `text` in an unknown language, we detect the language by calculating and comparing the probability that it comes from the Romanian language model vs the the probability that it comes from the English language model.\n",
    "\n",
    "We compute the probability of the text by multiplying the transition probabilities for every pair of letters in the sequence. We obtain the total probability of the sequence, for each language model, and then we compare them.\n",
    "\n",
    "We take a decision based on the higher probability. This is known as **Maximum Likelihood** principle: we pick the alternative which is more likely to have produced the text, i.e. the language for which the text probability is higher.\n",
    "\n",
    "Multiplying probabilities rapidly produces values too small to be represented in binary format. To avoid this, instead of multiplying transition some probabilities \n",
    "$$P = p_1 \\cdot p_2 \\cdot ... $$\n",
    "we instead sum their logarithms $$S  = log10(p1) + log10(p2) + ...$$\n",
    "\n",
    "This keeps the values in an acceptable range. In the end we compare the two total sums just like we would have compared the total probabilities.\n",
    "\n",
    "Compute below the probabilities (log sums) `prob_ro` and `prob_en` for the given text below, according to the Romanian and English transition matrices `T_ro` and `T_en`."
   ]
  },
  {
   "cell_type": "code",
   "execution_count": 2,
   "metadata": {},
   "outputs": [],
   "source": [
    "const char* text = \"Where are you, Scooby-Dooby-Doo?\";\n",
    "//const char* text = \"Unde esti tu, Azorel?\";\n",
    "\n",
    "double prob_ro = 0;  // sums must be initialized with 0\n",
    "double prob_en = 0;\n",
    "\n",
    "// TODO: write below, compute prob_ro and prob_en\n",
    "\n"
   ]
  },
  {
   "cell_type": "markdown",
   "metadata": {},
   "source": [
    "### Results\n",
    "\n",
    "Finally, let's compare the total log-probabilities and guess the language!"
   ]
  },
  {
   "cell_type": "code",
   "execution_count": null,
   "metadata": {},
   "outputs": [],
   "source": [
    "printf(\"Prob RO = %g, Prob EN = %g\\n\", prob_ro, prob_en);\n",
    "\n",
    "if (prob_ro > prob_en)\n",
    "    printf(\"Looks like Romanian text\");\n",
    "else\n",
    "    printf(\"Looks like English text\");\n"
   ]
  },
  {
   "cell_type": "markdown",
   "metadata": {},
   "source": [
    "# 3. Final Exercises\n",
    "\n",
    "1. Put it all into a dedicated C program.\n",
    "\n",
    "    Write a C program *guesstext.c* guess the language of a text file.\n",
    "\n",
    "    * The program shall receive the names of three files:\n",
    "    \n",
    "        `guesstext.exe textro.txt texten.txt unknown.txt\n",
    "    \n",
    "        The three arguments are:\n",
    "    \n",
    "         * a large text file written in Romanian language\n",
    "         \n",
    "         * a large text file written in English language\n",
    "         \n",
    "         * a text file written either in Romanian or in English\n",
    "                    \n",
    "    * The program should follow the same steps as above:\n",
    "    \n",
    "      - create the transition matrices for the two languages, with the function created above\n",
    "      \n",
    "      - open the unknown file, read the text, compute the probabilities, and finally report the language in the console\n",
    "\n"
   ]
  },
  {
   "cell_type": "markdown",
   "metadata": {},
   "source": [
    "# 4. Final questions\n",
    "\n",
    "1. TBD"
   ]
  }
 ],
 "metadata": {
  "kernelspec": {
   "display_name": "C++14",
   "language": "C++14",
   "name": "xcpp14"
  },
  "language_info": {
   "codemirror_mode": "text/x-c++src",
   "file_extension": ".cpp",
   "mimetype": "text/x-c++src",
   "name": "c++",
   "version": "14"
  }
 },
 "nbformat": 4,
 "nbformat_minor": 4
}
